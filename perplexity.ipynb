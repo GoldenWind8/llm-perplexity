{
 "cells": [
  {
   "cell_type": "code",
   "execution_count": null,
   "id": "initial_id",
   "metadata": {
    "collapsed": true
   },
   "outputs": [],
   "source": [
    "# Transformers installation\n",
    "!pip install transformers datasets"
   ]
  },
  {
   "cell_type": "code",
   "outputs": [],
   "source": [
    "from transformers import AutoModelForCausalLM, AutoTokenizer\n",
    "import torch\n",
    "\n",
    "device = \"cuda\"\n",
    "model_id = \"mistralai/Mistral-7B-v0.1\"\n",
    "model = AutoModelForCausalLM.from_pretrained(model_id).to(device)\n",
    "tokenizer = AutoTokenizer.from_pretrained(model_id)"
   ],
   "metadata": {
    "collapsed": false
   },
   "id": "9a4f221fcb7ee757",
   "execution_count": null
  },
  {
   "cell_type": "code",
   "outputs": [],
   "source": [
    "encodings = tokenizer(\"The quick brown fox\", return_tensors=\"pt\").to(device)"
   ],
   "metadata": {
    "collapsed": false
   },
   "id": "f235674b64d537f1"
  },
  {
   "cell_type": "code",
   "outputs": [],
   "source": [
    "# Define the input text X and the corresponding output text Y\n",
    "input_text = \"What is the capital of France?\"\n",
    "output_text = \"The capital of France is Paris.\"\n",
    "\n",
    "# Tokenize the input and output texts\n",
    "input_ids = tokenizer.encode(input_text, return_tensors=\"pt\")\n",
    "output_ids = tokenizer.encode(output_text, return_tensors=\"pt\")\n",
    "\n",
    "# Concatenate the input and output token IDs TODO test\n",
    "input_output_ids = torch.cat((input_ids, output_ids), dim=-1)\n",
    "trg_len = len(output_ids)\n",
    "target_ids = input_output_ids.clone()\n",
    "target_ids[:, :-trg_len] = -100  #wtf does this do"
   ],
   "metadata": {
    "collapsed": false
   },
   "id": "8a3c59be700c5502"
  },
  {
   "cell_type": "code",
   "outputs": [],
   "source": [
    "max_length = 1024\n",
    "seq_len = encodings.input_ids.size(1)\n",
    "\n",
    "nlls = []\n",
    "end_loc = min(max_length, seq_len)\n",
    "trg_len = end_loc # may be different from stride on last loop\n",
    "input_ids = encodings.input_ids[:, 0:end_loc].to(device)\n",
    "target_ids = input_ids.clone()\n",
    "target_ids[:, :-trg_len] = -100  #wtf does this do\n",
    "\n",
    "with torch.no_grad():\n",
    "    outputs = model(input_ids, labels=target_ids)\n",
    "\n",
    "    # loss is calculated using CrossEntropyLoss which averages over valid labels\n",
    "    # N.B. the model only calculates loss over trg_len - 1 labels, because it internally shifts the labels\n",
    "    # to the left by 1.\n",
    "    neg_log_likelihood = outputs.loss\n",
    "\n",
    "nlls.append(neg_log_likelihood)    \n",
    "\n",
    "ppl = torch.exp(torch.stack(nlls).mean())\n",
    "print(neg_log_likelihood, ppl)"
   ],
   "metadata": {
    "collapsed": false
   },
   "id": "c679f75685f7bee9"
  },
  {
   "cell_type": "markdown",
   "source": [
    "#Mass Calculation"
   ],
   "metadata": {
    "collapsed": false
   },
   "id": "8af640620d466cac"
  },
  {
   "cell_type": "code",
   "outputs": [],
   "source": [],
   "metadata": {
    "collapsed": false
   },
   "id": "204fa7547d321dc3"
  }
 ],
 "metadata": {
  "kernelspec": {
   "display_name": "Python 3",
   "language": "python",
   "name": "python3"
  },
  "language_info": {
   "codemirror_mode": {
    "name": "ipython",
    "version": 2
   },
   "file_extension": ".py",
   "mimetype": "text/x-python",
   "name": "python",
   "nbconvert_exporter": "python",
   "pygments_lexer": "ipython2",
   "version": "2.7.6"
  }
 },
 "nbformat": 4,
 "nbformat_minor": 5
}
