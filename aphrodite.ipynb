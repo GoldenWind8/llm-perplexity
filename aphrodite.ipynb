{
 "cells": [
  {
   "cell_type": "code",
   "outputs": [
    {
     "name": "stdout",
     "output_type": "stream",
     "text": [
      "Prompts and completions have been saved to 'prompts_completions.csv'.\n"
     ]
    }
   ],
   "source": [
    "!pip install pandas\n",
    "import pandas as pd\n",
    "# Create a DataFrame using the prompts and completions\n",
    "prompts=[]\n",
    "completions = []\n",
    "data = {'prompt': prompts, 'claude': completions}\n",
    "df = pd.DataFrame(data)\n",
    "\n",
    "# Save the DataFrame to a CSV file\n",
    "df.to_csv('prompts_completions.csv', index=False)\n",
    "\n",
    "print(\"Prompts and completions have been saved to 'prompts_completions.csv'.\")"
   ],
   "metadata": {
    "collapsed": false,
    "ExecuteTime": {
     "end_time": "2024-03-17T16:47:23.730517Z",
     "start_time": "2024-03-17T16:47:23.714405Z"
    }
   },
   "id": "257de4a60038e64a",
   "execution_count": 7
  },
  {
   "cell_type": "code",
   "execution_count": null,
   "id": "initial_id",
   "metadata": {
    "collapsed": true
   },
   "outputs": [],
   "source": [
    "!pip install aphrodite-engine\n",
    "from aphrodite import LLM, SamplingParams\n",
    "\n",
    "prompts = [\n",
    "    \"What is a man? A miserable little\",\n",
    "    \"Once upon a time\",\n",
    "]\n",
    "\n",
    "sampling_params = SamplingParams(temperature=1.1, min_p=0.05)\n",
    "llm = LLM(model=\"mistralai/Mistral-7B-v0.1\", tensor_parallel_size=1)\n",
    "outputs = llm.generate(prompts, sampling_params)\n",
    "\n",
    "for output in outputs:\n",
    "    prompt = output.prompt\n",
    "    generated_text = output.outputs[0].text\n",
    "    print(f\"Prompt: {prompt!r}, Output: {generated_text!r}\")"
   ]
  },
  {
   "cell_type": "code",
   "outputs": [],
   "source": [
    "# Read the CSV file into a DataFrame\n",
    "df = pd.read_csv('prompts_completions.csv')\n",
    "\n",
    "# Extract the prompts array from the DataFrame\n",
    "prompts = df['prompt'].tolist()\n",
    "\n",
    "sampling_params = SamplingParams(temperature=1.1, min_p=0.05)\n",
    "outputs = llm.generate(prompts, sampling_params)\n",
    "\n",
    "# Create a new column in the DataFrame to store the generated outputs\n",
    "df['mistral3'] = ''\n",
    "\n",
    "for i, output in enumerate(outputs):\n",
    "    prompt = output.prompt\n",
    "    generated_text = output.outputs[0].text\n",
    "    print(f\"Prompt: {prompt!r}, Output: {generated_text!r}\")\n",
    "\n",
    "    # Save the generated output in the corresponding row of the new column\n",
    "    df.at[i, 'mistral3'] = generated_text\n",
    "\n",
    "# Save the updated DataFrame back to a CSV file\n",
    "df.to_csv('prompts_completions.csv', index=False)"
   ],
   "metadata": {
    "collapsed": false
   },
   "id": "afaa228b29f12a3b"
  },
  {
   "cell_type": "code",
   "outputs": [],
   "source": [],
   "metadata": {
    "collapsed": false
   },
   "id": "16fc34ede4afcdf2"
  }
 ],
 "metadata": {
  "kernelspec": {
   "display_name": "Python 3",
   "language": "python",
   "name": "python3"
  },
  "language_info": {
   "codemirror_mode": {
    "name": "ipython",
    "version": 2
   },
   "file_extension": ".py",
   "mimetype": "text/x-python",
   "name": "python",
   "nbconvert_exporter": "python",
   "pygments_lexer": "ipython2",
   "version": "2.7.6"
  }
 },
 "nbformat": 4,
 "nbformat_minor": 5
}
