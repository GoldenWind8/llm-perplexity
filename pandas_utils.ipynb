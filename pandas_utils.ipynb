{
 "cells": [
  {
   "cell_type": "code",
   "execution_count": null,
   "id": "initial_id",
   "metadata": {
    "collapsed": true
   },
   "outputs": [],
   "source": [
    "import pandas as pd\n",
    "# Read the CSV file into a DataFrame\n",
    "df = pd.read_csv('perplexity_test1.csv')\n",
    "\n",
    "# Extract the prompts array from the DataFrame\n",
    "prompts = df['prompt'].tolist()"
   ]
  },
  {
   "cell_type": "code",
   "outputs": [],
   "source": [
    "# Create a new column in the DataFrame to store the generated outputs\n",
    "df['mistral3'] = ''\n",
    "df.at[0, 'mistral3'] = \"generated_text\"\n",
    "\n",
    "# Save the updated DataFrame back to a CSV file\n",
    "df.to_csv('prompts_completions.csv', index=False)"
   ],
   "metadata": {
    "collapsed": false
   },
   "id": "268756160c7e09ec"
  },
  {
   "cell_type": "code",
   "outputs": [],
   "source": [
    "# Create a DataFrame using the prompts and completions\n",
    "prompts= []\n",
    "completions = []\n",
    "perplexity = []\n",
    "data = {'prompt': prompts, 'completions': completions, 'perplexity': perplexity}\n",
    "df = pd.DataFrame(data)\n",
    "\n",
    "# Save the DataFrame to a CSV file\n",
    "df.to_csv('perplexity_test1.csv', index=False)"
   ],
   "metadata": {
    "collapsed": false
   },
   "id": "81fe3f3128454bc8"
  },
  {
   "cell_type": "markdown",
   "source": [
    "# New column in csv"
   ],
   "metadata": {
    "collapsed": false
   },
   "id": "dbe4845c1265a546"
  },
  {
   "cell_type": "code",
   "outputs": [],
   "source": [
    "import pandas as pd\n",
    "# Read the CSV file into a DataFrame\n",
    "df = pd.read_csv('perplexity_test1.csv')\n",
    "\n",
    "# Create a new column in the DataFrame to store the generated outputs\n",
    "df['llama2'] = outputs = []\n",
    "\n",
    "# Save the DataFrame to a CSV file\n",
    "df.to_csv('completions_llama.csv', index=False)"
   ],
   "metadata": {
    "collapsed": false
   },
   "id": "ae2318a2e0a07a9d"
  },
  {
   "cell_type": "code",
   "outputs": [],
   "source": [
    "\n",
    "# Read the CSV file into a DataFrame\n",
    "df = pd.read_csv('prompts_completions.csv')\n",
    "\n",
    "# Extract the prompts array from the DataFrame\n",
    "prompts = df['prompt'].tolist()\n",
    "\n",
    "sampling_params = SamplingParams(temperature=1.1, min_p=0.05)\n",
    "outputs = llm.generate(prompts, sampling_params)\n",
    "\n",
    "# Create a new column in the DataFrame to store the generated outputs\n",
    "df['mistral3'] = ''\n",
    "\n",
    "for i, output in enumerate(outputs):\n",
    "    prompt = output.prompt\n",
    "    generated_text = output.outputs[0].text\n",
    "    print(f\"Prompt: {prompt!r}, Output: {generated_text!r}\")\n",
    "\n",
    "    # Save the generated output in the corresponding row of the new column\n",
    "    df.at[i, 'mistral3'] = generated_text\n",
    "\n",
    "# Save the updated DataFrame back to a CSV file\n",
    "df.to_csv('prompts_completions.csv', index=False)"
   ],
   "metadata": {
    "collapsed": false
   },
   "id": "a0164761bd33b4e2"
  }
 ],
 "metadata": {
  "kernelspec": {
   "display_name": "Python 3",
   "language": "python",
   "name": "python3"
  },
  "language_info": {
   "codemirror_mode": {
    "name": "ipython",
    "version": 2
   },
   "file_extension": ".py",
   "mimetype": "text/x-python",
   "name": "python",
   "nbconvert_exporter": "python",
   "pygments_lexer": "ipython2",
   "version": "2.7.6"
  }
 },
 "nbformat": 4,
 "nbformat_minor": 5
}
